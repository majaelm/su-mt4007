{
 "cells": [
  {
   "cell_type": "markdown",
   "id": "4b73921b-77fe-4fa9-85f8-51dd8cf1fc4e",
   "metadata": {},
   "source": [
    "# Homework 1\n"
   ]
  },
  {
   "cell_type": "markdown",
   "id": "98f231c5-1a5f-4a30-96e9-56c134b36415",
   "metadata": {},
   "source": [
    "My name is Maja, I'm pursuing a bachelor degree in mathematical statistic. On my spare time I like to read books and watch TV-series. I've taken the course \"programmeringsteknik för matematiker\" which is my only previous experience in data science."
   ]
  }
 ],
 "metadata": {
  "kernelspec": {
   "display_name": "Python 3 (ipykernel)",
   "language": "python",
   "name": "python3"
  },
  "language_info": {
   "codemirror_mode": {
    "name": "ipython",
    "version": 3
   },
   "file_extension": ".py",
   "mimetype": "text/x-python",
   "name": "python",
   "nbconvert_exporter": "python",
   "pygments_lexer": "ipython3",
   "version": "3.9.13"
  }
 },
 "nbformat": 4,
 "nbformat_minor": 5
}
