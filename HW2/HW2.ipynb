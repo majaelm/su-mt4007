{
 "cells": [
  {
   "cell_type": "markdown",
   "id": "679323f9-1a6e-4548-bb75-5b63a22b2837",
   "metadata": {},
   "source": [
    "# Homework 2"
   ]
  },
  {
   "cell_type": "markdown",
   "id": "c993fa85-0590-4449-922b-badbba0ed004",
   "metadata": {},
   "source": [
    "## Apartment prices"
   ]
  },
  {
   "cell_type": "markdown",
   "id": "010c7c2d-f0c6-41f6-a792-d37b42bf2c83",
   "metadata": {},
   "source": [
    "We are going to analyse data on sales of apartments in Ekhagen. We start by reading in the data."
   ]
  },
  {
   "cell_type": "code",
   "execution_count": 18,
   "id": "ea9028d4-b453-4cf0-be7a-bf49e9e96d19",
   "metadata": {},
   "outputs": [],
   "source": [
    "import pandas as pd\n",
    "import seaborn as sns\n",
    "\n",
    "df = pd.read_csv('https://raw.githubusercontent.com/su-mt4007/data/refs/heads/main/Booli_sold.csv')"
   ]
  },
  {
   "cell_type": "markdown",
   "id": "41bbb587-c9da-417a-8b05-3df7e14bf28c",
   "metadata": {},
   "source": [
    "We add a column with price per square meters (ppsqm)."
   ]
  },
  {
   "cell_type": "code",
   "execution_count": 19,
   "id": "e113becd-9f76-4325-9fca-1241d5a3990a",
   "metadata": {},
   "outputs": [
    {
     "data": {
      "text/html": [
       "<div>\n",
       "<style scoped>\n",
       "    .dataframe tbody tr th:only-of-type {\n",
       "        vertical-align: middle;\n",
       "    }\n",
       "\n",
       "    .dataframe tbody tr th {\n",
       "        vertical-align: top;\n",
       "    }\n",
       "\n",
       "    .dataframe thead th {\n",
       "        text-align: right;\n",
       "    }\n",
       "</style>\n",
       "<table border=\"1\" class=\"dataframe\">\n",
       "  <thead>\n",
       "    <tr style=\"text-align: right;\">\n",
       "      <th></th>\n",
       "      <th>livingArea</th>\n",
       "      <th>soldPrice</th>\n",
       "      <th>ppsqm</th>\n",
       "    </tr>\n",
       "  </thead>\n",
       "  <tbody>\n",
       "    <tr>\n",
       "      <th>0</th>\n",
       "      <td>73.0</td>\n",
       "      <td>3820000</td>\n",
       "      <td>52328.767123</td>\n",
       "    </tr>\n",
       "    <tr>\n",
       "      <th>1</th>\n",
       "      <td>36.0</td>\n",
       "      <td>2355000</td>\n",
       "      <td>65416.666667</td>\n",
       "    </tr>\n",
       "    <tr>\n",
       "      <th>2</th>\n",
       "      <td>81.0</td>\n",
       "      <td>6110000</td>\n",
       "      <td>75432.098765</td>\n",
       "    </tr>\n",
       "    <tr>\n",
       "      <th>3</th>\n",
       "      <td>107.0</td>\n",
       "      <td>8050000</td>\n",
       "      <td>75233.644860</td>\n",
       "    </tr>\n",
       "    <tr>\n",
       "      <th>4</th>\n",
       "      <td>29.0</td>\n",
       "      <td>2400000</td>\n",
       "      <td>82758.620690</td>\n",
       "    </tr>\n",
       "  </tbody>\n",
       "</table>\n",
       "</div>"
      ],
      "text/plain": [
       "   livingArea  soldPrice         ppsqm\n",
       "0        73.0    3820000  52328.767123\n",
       "1        36.0    2355000  65416.666667\n",
       "2        81.0    6110000  75432.098765\n",
       "3       107.0    8050000  75233.644860\n",
       "4        29.0    2400000  82758.620690"
      ]
     },
     "execution_count": 19,
     "metadata": {},
     "output_type": "execute_result"
    }
   ],
   "source": [
    "df['ppsqm'] = df['soldPrice']/df['livingArea'] #calcualte ppsqm\n",
    "\n",
    "relevent_df = df[['livingArea', 'soldPrice','ppsqm']]\n",
    "relevent_df.head()"
   ]
  },
  {
   "cell_type": "markdown",
   "id": "74c5bf41-ddb9-4103-a14f-600085f7385e",
   "metadata": {},
   "source": [
    "Now we want to creat a table of the top 5 apartments with the highest price per square meter."
   ]
  },
  {
   "cell_type": "code",
   "execution_count": 20,
   "id": "483c55ef-399a-4880-8bbe-905e987d893e",
   "metadata": {},
   "outputs": [
    {
     "data": {
      "text/html": [
       "<div>\n",
       "<style scoped>\n",
       "    .dataframe tbody tr th:only-of-type {\n",
       "        vertical-align: middle;\n",
       "    }\n",
       "\n",
       "    .dataframe tbody tr th {\n",
       "        vertical-align: top;\n",
       "    }\n",
       "\n",
       "    .dataframe thead th {\n",
       "        text-align: right;\n",
       "    }\n",
       "</style>\n",
       "<table border=\"1\" class=\"dataframe\">\n",
       "  <thead>\n",
       "    <tr style=\"text-align: right;\">\n",
       "      <th></th>\n",
       "      <th>livingArea</th>\n",
       "      <th>soldPrice</th>\n",
       "      <th>ppsqm</th>\n",
       "    </tr>\n",
       "  </thead>\n",
       "  <tbody>\n",
       "    <tr>\n",
       "      <th>67</th>\n",
       "      <td>24.0</td>\n",
       "      <td>2500000</td>\n",
       "      <td>104166.666667</td>\n",
       "    </tr>\n",
       "    <tr>\n",
       "      <th>50</th>\n",
       "      <td>24.0</td>\n",
       "      <td>2450000</td>\n",
       "      <td>102083.333333</td>\n",
       "    </tr>\n",
       "    <tr>\n",
       "      <th>54</th>\n",
       "      <td>23.0</td>\n",
       "      <td>2300000</td>\n",
       "      <td>100000.000000</td>\n",
       "    </tr>\n",
       "    <tr>\n",
       "      <th>34</th>\n",
       "      <td>25.0</td>\n",
       "      <td>2210000</td>\n",
       "      <td>88400.000000</td>\n",
       "    </tr>\n",
       "    <tr>\n",
       "      <th>55</th>\n",
       "      <td>26.9</td>\n",
       "      <td>2300000</td>\n",
       "      <td>85501.858736</td>\n",
       "    </tr>\n",
       "  </tbody>\n",
       "</table>\n",
       "</div>"
      ],
      "text/plain": [
       "    livingArea  soldPrice          ppsqm\n",
       "67        24.0    2500000  104166.666667\n",
       "50        24.0    2450000  102083.333333\n",
       "54        23.0    2300000  100000.000000\n",
       "34        25.0    2210000   88400.000000\n",
       "55        26.9    2300000   85501.858736"
      ]
     },
     "execution_count": 20,
     "metadata": {},
     "output_type": "execute_result"
    }
   ],
   "source": [
    "top_5 = relevent_df.sort_values('ppsqm', ascending = False).head(5) \n",
    "top_5"
   ]
  },
  {
   "cell_type": "markdown",
   "id": "a9a4441a-9edf-4ae0-af26-123e20293c12",
   "metadata": {},
   "source": [
    "Calculate the average price per square meters in Ekhagen."
   ]
  },
  {
   "cell_type": "code",
   "execution_count": 21,
   "id": "1d452c6a-af66-43c8-97be-30c3f1c9ab2c",
   "metadata": {},
   "outputs": [
    {
     "data": {
      "text/plain": [
       "58759.382760081746"
      ]
     },
     "execution_count": 21,
     "metadata": {},
     "output_type": "execute_result"
    }
   ],
   "source": [
    "ppsqm_mean = df['ppsqm'].mean()\n",
    "ppsqm_mean"
   ]
  },
  {
   "cell_type": "markdown",
   "id": "4d7e5239-989b-45bc-9e44-cc434d2d26bc",
   "metadata": {},
   "source": [
    "We sort the apartments by the living area."
   ]
  },
  {
   "cell_type": "code",
   "execution_count": 22,
   "id": "20781dee-909f-406d-be33-98de4f9ab558",
   "metadata": {},
   "outputs": [
    {
     "data": {
      "text/html": [
       "<div>\n",
       "<style scoped>\n",
       "    .dataframe tbody tr th:only-of-type {\n",
       "        vertical-align: middle;\n",
       "    }\n",
       "\n",
       "    .dataframe tbody tr th {\n",
       "        vertical-align: top;\n",
       "    }\n",
       "\n",
       "    .dataframe thead th {\n",
       "        text-align: right;\n",
       "    }\n",
       "</style>\n",
       "<table border=\"1\" class=\"dataframe\">\n",
       "  <thead>\n",
       "    <tr style=\"text-align: right;\">\n",
       "      <th></th>\n",
       "      <th>livingArea</th>\n",
       "      <th>soldPrice</th>\n",
       "      <th>ppsqm</th>\n",
       "    </tr>\n",
       "  </thead>\n",
       "  <tbody>\n",
       "    <tr>\n",
       "      <th>150</th>\n",
       "      <td>20.0</td>\n",
       "      <td>1300000</td>\n",
       "      <td>65000.000000</td>\n",
       "    </tr>\n",
       "    <tr>\n",
       "      <th>155</th>\n",
       "      <td>23.0</td>\n",
       "      <td>1450000</td>\n",
       "      <td>63043.478261</td>\n",
       "    </tr>\n",
       "    <tr>\n",
       "      <th>54</th>\n",
       "      <td>23.0</td>\n",
       "      <td>2300000</td>\n",
       "      <td>100000.000000</td>\n",
       "    </tr>\n",
       "    <tr>\n",
       "      <th>50</th>\n",
       "      <td>24.0</td>\n",
       "      <td>2450000</td>\n",
       "      <td>102083.333333</td>\n",
       "    </tr>\n",
       "    <tr>\n",
       "      <th>67</th>\n",
       "      <td>24.0</td>\n",
       "      <td>2500000</td>\n",
       "      <td>104166.666667</td>\n",
       "    </tr>\n",
       "    <tr>\n",
       "      <th>...</th>\n",
       "      <td>...</td>\n",
       "      <td>...</td>\n",
       "      <td>...</td>\n",
       "    </tr>\n",
       "    <tr>\n",
       "      <th>107</th>\n",
       "      <td>128.3</td>\n",
       "      <td>6025000</td>\n",
       "      <td>46960.249415</td>\n",
       "    </tr>\n",
       "    <tr>\n",
       "      <th>106</th>\n",
       "      <td>131.0</td>\n",
       "      <td>5600000</td>\n",
       "      <td>42748.091603</td>\n",
       "    </tr>\n",
       "    <tr>\n",
       "      <th>68</th>\n",
       "      <td>138.0</td>\n",
       "      <td>6450000</td>\n",
       "      <td>46739.130435</td>\n",
       "    </tr>\n",
       "    <tr>\n",
       "      <th>59</th>\n",
       "      <td>152.0</td>\n",
       "      <td>9250000</td>\n",
       "      <td>60855.263158</td>\n",
       "    </tr>\n",
       "    <tr>\n",
       "      <th>102</th>\n",
       "      <td>NaN</td>\n",
       "      <td>3135000</td>\n",
       "      <td>NaN</td>\n",
       "    </tr>\n",
       "  </tbody>\n",
       "</table>\n",
       "<p>158 rows × 3 columns</p>\n",
       "</div>"
      ],
      "text/plain": [
       "     livingArea  soldPrice          ppsqm\n",
       "150        20.0    1300000   65000.000000\n",
       "155        23.0    1450000   63043.478261\n",
       "54         23.0    2300000  100000.000000\n",
       "50         24.0    2450000  102083.333333\n",
       "67         24.0    2500000  104166.666667\n",
       "..          ...        ...            ...\n",
       "107       128.3    6025000   46960.249415\n",
       "106       131.0    5600000   42748.091603\n",
       "68        138.0    6450000   46739.130435\n",
       "59        152.0    9250000   60855.263158\n",
       "102         NaN    3135000            NaN\n",
       "\n",
       "[158 rows x 3 columns]"
      ]
     },
     "execution_count": 22,
     "metadata": {},
     "output_type": "execute_result"
    }
   ],
   "source": [
    "sorted_df = relevent_df.sort_values('livingArea')\n",
    "\n",
    "sorted_df"
   ]
  },
  {
   "cell_type": "markdown",
   "id": "5b133a17-940c-4dc6-a5eb-9a0a736fde9d",
   "metadata": {},
   "source": [
    "Something interesting from the table above is that the apartment with the smallest living area have higher price per square meter than the apartment with the largest living area."
   ]
  },
  {
   "cell_type": "markdown",
   "id": "13a406e3-ef8a-4c83-8e41-cf41c4e94a8a",
   "metadata": {},
   "source": [
    "## The Swedish Election of 2018"
   ]
  },
  {
   "cell_type": "markdown",
   "id": "9eb65ed1-bd2e-438a-9b12-11b46983b67f",
   "metadata": {},
   "source": [
    "We start by reading the data."
   ]
  },
  {
   "cell_type": "code",
   "execution_count": 23,
   "id": "b44657de-1f74-46b5-b6fc-12d03abb9056",
   "metadata": {},
   "outputs": [],
   "source": [
    "election_df = pd.read_csv('https://raw.githubusercontent.com/su-mt4007/data/refs/heads/main/2018_R_per_kommun.csv', delimiter= ';', decimal=',')"
   ]
  },
  {
   "cell_type": "markdown",
   "id": "8a573e92-cdd7-4f97-9412-2f9d8dbbd5f7",
   "metadata": {},
   "source": [
    "Now we select the municipalities in Stockholm and calculate the sum of the legitimate votes."
   ]
  },
  {
   "cell_type": "code",
   "execution_count": 24,
   "id": "6908b53e-4891-418d-bdfd-fa10304c2280",
   "metadata": {},
   "outputs": [
    {
     "data": {
      "text/plain": [
       "1426237"
      ]
     },
     "execution_count": 24,
     "metadata": {},
     "output_type": "execute_result"
    }
   ],
   "source": [
    "election_df\\\n",
    "    [election_df['LÄNSNAMN'] == 'Stockholms län']\\\n",
    "    ['RÖSTER GILTIGA']\\\n",
    "    .sum()"
   ]
  },
  {
   "cell_type": "markdown",
   "id": "11d294ad-d752-4b33-a8f8-ffcd61cf4cc5",
   "metadata": {},
   "source": [
    "We now sort the municipalities by the highest voting percentage for the social democratic party."
   ]
  },
  {
   "cell_type": "code",
   "execution_count": 25,
   "id": "e4485f83-5833-4e3a-b4db-9780a97e99b5",
   "metadata": {},
   "outputs": [
    {
     "data": {
      "text/html": [
       "<div>\n",
       "<style scoped>\n",
       "    .dataframe tbody tr th:only-of-type {\n",
       "        vertical-align: middle;\n",
       "    }\n",
       "\n",
       "    .dataframe tbody tr th {\n",
       "        vertical-align: top;\n",
       "    }\n",
       "\n",
       "    .dataframe thead th {\n",
       "        text-align: right;\n",
       "    }\n",
       "</style>\n",
       "<table border=\"1\" class=\"dataframe\">\n",
       "  <thead>\n",
       "    <tr style=\"text-align: right;\">\n",
       "      <th></th>\n",
       "      <th>KOMMUNNAMN</th>\n",
       "      <th>S</th>\n",
       "    </tr>\n",
       "  </thead>\n",
       "  <tbody>\n",
       "    <tr>\n",
       "      <th>188</th>\n",
       "      <td>Munkfors</td>\n",
       "      <td>52.18</td>\n",
       "    </tr>\n",
       "    <tr>\n",
       "      <th>286</th>\n",
       "      <td>Piteå</td>\n",
       "      <td>47.48</td>\n",
       "    </tr>\n",
       "    <tr>\n",
       "      <th>196</th>\n",
       "      <td>Hagfors</td>\n",
       "      <td>47.46</td>\n",
       "    </tr>\n",
       "    <tr>\n",
       "      <th>279</th>\n",
       "      <td>Överkalix</td>\n",
       "      <td>46.68</td>\n",
       "    </tr>\n",
       "    <tr>\n",
       "      <th>280</th>\n",
       "      <td>Kalix</td>\n",
       "      <td>45.37</td>\n",
       "    </tr>\n",
       "    <tr>\n",
       "      <th>...</th>\n",
       "      <td>...</td>\n",
       "      <td>...</td>\n",
       "    </tr>\n",
       "    <tr>\n",
       "      <th>133</th>\n",
       "      <td>Kungsbacka</td>\n",
       "      <td>16.32</td>\n",
       "    </tr>\n",
       "    <tr>\n",
       "      <th>13</th>\n",
       "      <td>Täby</td>\n",
       "      <td>13.99</td>\n",
       "    </tr>\n",
       "    <tr>\n",
       "      <th>21</th>\n",
       "      <td>Lidingö</td>\n",
       "      <td>12.35</td>\n",
       "    </tr>\n",
       "    <tr>\n",
       "      <th>98</th>\n",
       "      <td>Vellinge</td>\n",
       "      <td>10.58</td>\n",
       "    </tr>\n",
       "    <tr>\n",
       "      <th>14</th>\n",
       "      <td>Danderyd</td>\n",
       "      <td>8.04</td>\n",
       "    </tr>\n",
       "  </tbody>\n",
       "</table>\n",
       "<p>290 rows × 2 columns</p>\n",
       "</div>"
      ],
      "text/plain": [
       "     KOMMUNNAMN      S\n",
       "188    Munkfors  52.18\n",
       "286       Piteå  47.48\n",
       "196     Hagfors  47.46\n",
       "279   Överkalix  46.68\n",
       "280       Kalix  45.37\n",
       "..          ...    ...\n",
       "133  Kungsbacka  16.32\n",
       "13         Täby  13.99\n",
       "21      Lidingö  12.35\n",
       "98     Vellinge  10.58\n",
       "14     Danderyd   8.04\n",
       "\n",
       "[290 rows x 2 columns]"
      ]
     },
     "execution_count": 25,
     "metadata": {},
     "output_type": "execute_result"
    }
   ],
   "source": [
    "election_df\\\n",
    "    [['KOMMUNNAMN', 'S']]\\\n",
    "    .sort_values('S', ascending = False)"
   ]
  },
  {
   "cell_type": "markdown",
   "id": "87154507-e0e8-4715-b64f-40a95079da26",
   "metadata": {},
   "source": [
    "From the table above we can se that Munkfors is the municipality that have the highest voting percentage for the social democratic party.\n",
    "Now we create a table of the three municipalities with the highest participation."
   ]
  },
  {
   "cell_type": "code",
   "execution_count": 26,
   "id": "cc7f480a-786e-40c5-a555-64f035c3c093",
   "metadata": {},
   "outputs": [
    {
     "data": {
      "text/html": [
       "<div>\n",
       "<style scoped>\n",
       "    .dataframe tbody tr th:only-of-type {\n",
       "        vertical-align: middle;\n",
       "    }\n",
       "\n",
       "    .dataframe tbody tr th {\n",
       "        vertical-align: top;\n",
       "    }\n",
       "\n",
       "    .dataframe thead th {\n",
       "        text-align: right;\n",
       "    }\n",
       "</style>\n",
       "<table border=\"1\" class=\"dataframe\">\n",
       "  <thead>\n",
       "    <tr style=\"text-align: right;\">\n",
       "      <th></th>\n",
       "      <th>KOMMUNNAMN</th>\n",
       "      <th>VALDELTAGANDE</th>\n",
       "    </tr>\n",
       "  </thead>\n",
       "  <tbody>\n",
       "    <tr>\n",
       "      <th>103</th>\n",
       "      <td>Lomma</td>\n",
       "      <td>93.86</td>\n",
       "    </tr>\n",
       "    <tr>\n",
       "      <th>59</th>\n",
       "      <td>Habo</td>\n",
       "      <td>93.35</td>\n",
       "    </tr>\n",
       "    <tr>\n",
       "      <th>98</th>\n",
       "      <td>Vellinge</td>\n",
       "      <td>93.13</td>\n",
       "    </tr>\n",
       "  </tbody>\n",
       "</table>\n",
       "</div>"
      ],
      "text/plain": [
       "    KOMMUNNAMN  VALDELTAGANDE\n",
       "103      Lomma          93.86\n",
       "59        Habo          93.35\n",
       "98    Vellinge          93.13"
      ]
     },
     "execution_count": 26,
     "metadata": {},
     "output_type": "execute_result"
    }
   ],
   "source": [
    "election_df\\\n",
    "    [['KOMMUNNAMN', 'VALDELTAGANDE']]\\\n",
    "    .sort_values('VALDELTAGANDE', ascending = False)\\\n",
    "    .head(3)\\\n",
    "    "
   ]
  },
  {
   "cell_type": "markdown",
   "id": "ce3e9c40-ce79-42b6-8c81-350e5859d7bc",
   "metadata": {},
   "source": [
    "## Predicting Strokes"
   ]
  },
  {
   "cell_type": "markdown",
   "id": "ce8414cb-91c9-4274-a0ae-7b23b9a94e02",
   "metadata": {},
   "source": [
    "We start by reading in the data."
   ]
  },
  {
   "cell_type": "code",
   "execution_count": 27,
   "id": "046456bb-d954-433c-b3be-26ae7301970a",
   "metadata": {},
   "outputs": [],
   "source": [
    "strokes_df = pd.read_csv('https://raw.githubusercontent.com/su-mt4007/data/refs/heads/main/stroke-data.csv')"
   ]
  },
  {
   "cell_type": "markdown",
   "id": "fd71dc8d-3592-4366-9eeb-afd5fce79070",
   "metadata": {},
   "source": [
    "We analyze the distribution of age within the data with a histogram."
   ]
  },
  {
   "cell_type": "code",
   "execution_count": 28,
   "id": "caebd4c0-aec8-4c8c-abe9-da6a29db5e4f",
   "metadata": {},
   "outputs": [
    {
     "data": {
      "text/plain": [
       "<AxesSubplot:xlabel='age', ylabel='Count'>"
      ]
     },
     "execution_count": 28,
     "metadata": {},
     "output_type": "execute_result"
    },
    {
     "data": {
      "image/png": "[encoded data removed]",
      "text/plain": [
       "<Figure size 640x480 with 1 Axes>"
      ]
     },
     "metadata": {},
     "output_type": "display_data"
    }
   ],
   "source": [
    "sns.histplot(strokes_df['age'])"
   ]
  },
  {
   "cell_type": "markdown",
   "id": "75c845d7-8fe4-4c83-9af9-01f72657c527",
   "metadata": {},
   "source": [
    "In the figure above, we can see that the data for age is balanced."
   ]
  },
  {
   "cell_type": "markdown",
   "id": "c3677919-c2bf-420c-950e-599e9fa939bb",
   "metadata": {},
   "source": [
    "We creat a new column that specify in which age group the person is in and sets the interval to 5 years."
   ]
  },
  {
   "cell_type": "code",
   "execution_count": 29,
   "id": "b4e22e2e-7a7a-44b6-b15c-785fd1a7e59a",
   "metadata": {},
   "outputs": [
    {
     "data": {
      "text/html": [
       "<div>\n",
       "<style scoped>\n",
       "    .dataframe tbody tr th:only-of-type {\n",
       "        vertical-align: middle;\n",
       "    }\n",
       "\n",
       "    .dataframe tbody tr th {\n",
       "        vertical-align: top;\n",
       "    }\n",
       "\n",
       "    .dataframe thead th {\n",
       "        text-align: right;\n",
       "    }\n",
       "</style>\n",
       "<table border=\"1\" class=\"dataframe\">\n",
       "  <thead>\n",
       "    <tr style=\"text-align: right;\">\n",
       "      <th></th>\n",
       "      <th>age_groups</th>\n",
       "      <th>stroke</th>\n",
       "    </tr>\n",
       "  </thead>\n",
       "  <tbody>\n",
       "    <tr>\n",
       "      <th>0</th>\n",
       "      <td>[65, 70)</td>\n",
       "      <td>1</td>\n",
       "    </tr>\n",
       "    <tr>\n",
       "      <th>1</th>\n",
       "      <td>[60, 65)</td>\n",
       "      <td>1</td>\n",
       "    </tr>\n",
       "    <tr>\n",
       "      <th>2</th>\n",
       "      <td>[80, 85)</td>\n",
       "      <td>1</td>\n",
       "    </tr>\n",
       "    <tr>\n",
       "      <th>3</th>\n",
       "      <td>[45, 50)</td>\n",
       "      <td>1</td>\n",
       "    </tr>\n",
       "    <tr>\n",
       "      <th>4</th>\n",
       "      <td>[75, 80)</td>\n",
       "      <td>1</td>\n",
       "    </tr>\n",
       "  </tbody>\n",
       "</table>\n",
       "</div>"
      ],
      "text/plain": [
       "  age_groups  stroke\n",
       "0   [65, 70)       1\n",
       "1   [60, 65)       1\n",
       "2   [80, 85)       1\n",
       "3   [45, 50)       1\n",
       "4   [75, 80)       1"
      ]
     },
     "execution_count": 29,
     "metadata": {},
     "output_type": "execute_result"
    }
   ],
   "source": [
    "strokes_df['age_groups'] = pd.cut(strokes_df['age'], bins = range(0,101,5), right = False)\n",
    "\n",
    "relevent_strokes_df = strokes_df[['age_groups', 'stroke']]\n",
    "relevent_strokes_df.head()"
   ]
  },
  {
   "cell_type": "markdown",
   "id": "5ccd845a-8454-44ac-9d84-affa7f6c5662",
   "metadata": {},
   "source": [
    "Now we plot the number of strokes in the different age groups. Since age is balanced, we do not need to adjust for the sizes of each age group."
   ]
  },
  {
   "cell_type": "code",
   "execution_count": 30,
   "id": "830b09fa-eb62-4bf6-a7e2-a3b90244a102",
   "metadata": {},
   "outputs": [
    {
     "data": {
      "text/plain": [
       "<AxesSubplot:xlabel='age_groups'>"
      ]
     },
     "execution_count": 30,
     "metadata": {},
     "output_type": "execute_result"
    },
    {
     "data": {
      "image/png": "[encoded data removed]",
      "text/plain": [
       "<Figure size 640x480 with 1 Axes>"
      ]
     },
     "metadata": {},
     "output_type": "display_data"
    }
   ],
   "source": [
    "relevent_strokes_df.groupby('age_groups').sum().plot.bar()"
   ]
  },
  {
   "cell_type": "markdown",
   "id": "7df1b0c7-b16d-4ca1-abb1-6911b3395447",
   "metadata": {},
   "source": [
    "From the plot above we can conclude that age seems to have an impact on strokes occurrence."
   ]
  }
 ],
 "metadata": {
  "kernelspec": {
   "display_name": "Python 3 (ipykernel)",
   "language": "python",
   "name": "python3"
  },
  "language_info": {
   "codemirror_mode": {
    "name": "ipython",
    "version": 3
   },
   "file_extension": ".py",
   "mimetype": "text/x-python",
   "name": "python",
   "nbconvert_exporter": "python",
   "pygments_lexer": "ipython3",
   "version": "3.9.13"
  }
 },
 "nbformat": 4,
 "nbformat_minor": 5
}
