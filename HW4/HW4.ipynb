{
 "cells": [
  {
   "cell_type": "markdown",
   "id": "97092fce-6ba4-4a02-a44b-90b3cde91d39",
   "metadata": {},
   "source": [
    "# Homework 4 "
   ]
  },
  {
   "cell_type": "markdown",
   "id": "b93dbfa5-1c34-4967-9c4e-451c60c21865",
   "metadata": {},
   "source": [
    "## Joining Data"
   ]
  },
  {
   "cell_type": "code",
   "execution_count": 193,
   "id": "456895e5-3608-4a12-9ea1-d2aab938091c",
   "metadata": {},
   "outputs": [],
   "source": [
    "import pandas as pd\n",
    "import numpy as np"
   ]
  },
  {
   "cell_type": "code",
   "execution_count": 194,
   "id": "2f624e0a-0bd5-43f6-8ee1-a8e7dfa3a5a2",
   "metadata": {},
   "outputs": [],
   "source": [
    "cell_df = pd.read_csv('https://raw.githubusercontent.com/su-mt4007/data/refs/heads/main/cell_phones_total.csv')"
   ]
  },
  {
   "cell_type": "markdown",
   "id": "2b95a4d5-7628-40cb-988a-12b80b0c72ec",
   "metadata": {},
   "source": [
    "We start by cleaning the data as we did in homework 3."
   ]
  },
  {
   "cell_type": "code",
   "execution_count": null,
   "id": "29ee58f1-55d3-4d3c-93a1-625f98d65acc",
   "metadata": {},
   "outputs": [],
   "source": [
    "for cell in range(len(cell_df)):\n",
    "    if np.isnan(cell_df.loc[cell,'1960']):\n",
    "        cell_df.loc[cell,'1960'] = 0.0\n",
    "\n",
    "cleaned_cell_df = cell_df.fillna(method='ffill', axis= 1)\n",
    "\n",
    "cleaned_cell_df.iloc[:,1:] = cleaned_cell_df.iloc[:,1:]\\\n",
    "    .replace({'k' :'e3', 'M' : 'e6', 'B': 'e9'}, regex = True)\\\n",
    "    .astype(float)"
   ]
  },
  {
   "cell_type": "code",
   "execution_count": null,
   "id": "fef2c698-0374-4e3a-85c1-b71be130f8a1",
   "metadata": {},
   "outputs": [],
   "source": [
    "pop_df = pd.read_csv('https://raw.githubusercontent.com/su-mt4007/data/refs/heads/main/pop_data.csv')"
   ]
  },
  {
   "cell_type": "markdown",
   "id": "95fd15e2-6d4f-4861-b99e-b15194b243e5",
   "metadata": {},
   "source": [
    "We want to know if there is a row that don't have any information about the population at all."
   ]
  },
  {
   "cell_type": "code",
   "execution_count": null,
   "id": "e1ad29b9-1d15-485d-bfaf-14012e55470c",
   "metadata": {},
   "outputs": [],
   "source": [
    "rows_with_all_nan = pop_df.iloc[:, 2:].isna().all(axis=1)\n",
    "\n",
    "for i in range(len(rows_with_all_nan)):\n",
    "    if rows_with_all_nan[i]:\n",
    "        print('The row', i, 'only contains Nan')"
   ]
  },
  {
   "cell_type": "markdown",
   "id": "d79874e1-97b6-43a5-971e-81865dd601d3",
   "metadata": {},
   "source": [
    "We can see from the output that row 110 only contains Nan. Because of this we choose to delete that row from the data frame. The first column is also unnecessary so we remove that column aswell."
   ]
  },
  {
   "cell_type": "code",
   "execution_count": null,
   "id": "6d45f59c-df5d-4e58-be2d-4d18e3c39bb1",
   "metadata": {},
   "outputs": [],
   "source": [
    "cleaned_pop_df = pop_df.drop(index=110)\\\n",
    "    .reset_index(drop = True)\\\n",
    "    .iloc[:, 1:]"
   ]
  },
  {
   "cell_type": "code",
   "execution_count": null,
   "id": "a537a1c0-27ac-4be8-b723-2ca660251222",
   "metadata": {},
   "outputs": [],
   "source": [
    "cleaned_pop_df"
   ]
  },
  {
   "cell_type": "markdown",
   "id": "24cc9717-fa16-4b78-b69e-31916b3b4d0a",
   "metadata": {},
   "source": [
    "If a country is missing data in 1960 we don't want to set the value to 0 because that seems improbible, later we will also devide the amount of cell phones with the population and we can't devide by 0. Because of this we choose to backward fill. First we want to know if there is some minning values in the year 2020."
   ]
  },
  {
   "cell_type": "code",
   "execution_count": null,
   "id": "66b63cc6-4fdf-4581-820c-f29cc671be06",
   "metadata": {},
   "outputs": [],
   "source": [
    "nan_in_2020 = cleaned_pop_df.iloc[:, 61].isna()\n",
    "for i in range(len(nan_in_2020)):\n",
    "    if nan_in_1960[i]:\n",
    "        print('The row', i, 'has Nan in the column 2020')"
   ]
  },
  {
   "cell_type": "markdown",
   "id": "d15d7818-9ab6-4f75-8105-23b0a97b079c",
   "metadata": {},
   "source": [
    "Because we don't get an output we know that all the countries have data in the year 2020 so we can now backward fill."
   ]
  },
  {
   "cell_type": "code",
   "execution_count": null,
   "id": "d8070204-576b-418f-91a8-62f15965365a",
   "metadata": {},
   "outputs": [],
   "source": [
    "clean_pop_df = cleaned_pop_df.bfill(axis=1)"
   ]
  },
  {
   "cell_type": "markdown",
   "id": "43588892-2e80-4ed4-983e-3efb4d9b23ac",
   "metadata": {},
   "source": [
    "Now we want to pivot the data frame."
   ]
  },
  {
   "cell_type": "code",
   "execution_count": null,
   "id": "11a556c5-9aa6-4d4d-9c73-7e8db4d7a28e",
   "metadata": {},
   "outputs": [],
   "source": [
    "pivot_pop_df = clean_pop_df.melt(id_vars ='iso-3', var_name='year', value_name='population')\n",
    "pivot_pop_df.head()"
   ]
  },
  {
   "cell_type": "markdown",
   "id": "7aba626f-7ae7-4ea7-9f3f-b2f24e1ae286",
   "metadata": {},
   "source": [
    "We now do the same for the cell phones."
   ]
  },
  {
   "cell_type": "code",
   "execution_count": null,
   "id": "6532e01a-8f9c-42b9-9ad7-af52a599e45a",
   "metadata": {},
   "outputs": [],
   "source": [
    "pivot_cell_df = cleaned_cell_df.melt(id_vars='iso-3', var_name='year', value_name='n_cellphones')\n",
    "pivot_cell_df.head()"
   ]
  },
  {
   "cell_type": "markdown",
   "id": "1af43535-f297-410f-a463-8977c83b298e",
   "metadata": {},
   "source": [
    "Now, we join the two data frames and presents the table asked for in exercise."
   ]
  },
  {
   "cell_type": "code",
   "execution_count": null,
   "id": "35d1b410-e4ce-48cc-af7d-b41d81fcd865",
   "metadata": {},
   "outputs": [],
   "source": [
    "cell_pop_df = pivot_cell_df.merge(pivot_pop_df, on =['iso-3','year'], how ='inner')\n",
    "\n",
    "cell_pop_df.head()"
   ]
  },
  {
   "cell_type": "markdown",
   "id": "c5903816-d0e5-4f11-b3f7-c130706e3f27",
   "metadata": {},
   "source": [
    "We read the country data."
   ]
  },
  {
   "cell_type": "code",
   "execution_count": null,
   "id": "a79a98af-2063-488f-be3d-21f445e7eee0",
   "metadata": {},
   "outputs": [],
   "source": [
    "country_df = pd.read_csv('https://raw.githubusercontent.com/su-mt4007/data/refs/heads/main/country_data.csv')\\\n",
    "    .rename(columns={'alpha-3':'iso-3'})\n",
    "\n",
    "country_df.head()"
   ]
  },
  {
   "cell_type": "markdown",
   "id": "061df9b2-a8c8-4bb3-a116-d3f2d5a3bc2e",
   "metadata": {},
   "source": [
    "We join the country data with the cell phone and population data."
   ]
  },
  {
   "cell_type": "code",
   "execution_count": null,
   "id": "8eda8993-8375-46e8-87ff-13ff3f088f33",
   "metadata": {},
   "outputs": [],
   "source": [
    "merged_df = country_df.merge(cell_pop_df, on='iso-3')\n",
    "merged_df.head()"
   ]
  },
  {
   "cell_type": "markdown",
   "id": "73853e45-ce9b-46fb-a345-80247d078e55",
   "metadata": {},
   "source": [
    "We creat a new column for phones per capita."
   ]
  },
  {
   "cell_type": "code",
   "execution_count": null,
   "id": "449635e4-3710-4cc7-9b75-86c790b68b18",
   "metadata": {},
   "outputs": [],
   "source": [
    "merged_df['phones per capita']= merged_df['n_cellphones']/merged_df['population']"
   ]
  },
  {
   "cell_type": "code",
   "execution_count": null,
   "id": "e555d21f-e887-4657-b377-ae92d435611c",
   "metadata": {},
   "outputs": [],
   "source": [
    "pivot_df = merged_df.pivot(columns=['year', 'name'])\n",
    "pivot_df.head()"
   ]
  },
  {
   "cell_type": "markdown",
   "id": "8ca2b306-428e-412b-a81c-96e0781ce4b2",
   "metadata": {},
   "source": [
    "Creat the table asked for."
   ]
  },
  {
   "cell_type": "code",
   "execution_count": null,
   "id": "fab453d5-42f3-4a35-a6fd-4c4744bc98b7",
   "metadata": {},
   "outputs": [],
   "source": [
    "merged_df[['name', 'year','phones per capita']].sort_values('phones per capita').head() "
   ]
  },
  {
   "cell_type": "code",
   "execution_count": null,
   "id": "29c36606-be59-4c06-b75f-303dcf317979",
   "metadata": {},
   "outputs": [],
   "source": []
  }
 ],
 "metadata": {
  "kernelspec": {
   "display_name": "Python 3 (ipykernel)",
   "language": "python",
   "name": "python3"
  },
  "language_info": {
   "codemirror_mode": {
    "name": "ipython",
    "version": 3
   },
   "file_extension": ".py",
   "mimetype": "text/x-python",
   "name": "python",
   "nbconvert_exporter": "python",
   "pygments_lexer": "ipython3",
   "version": "3.9.13"
  }
 },
 "nbformat": 4,
 "nbformat_minor": 5
}
